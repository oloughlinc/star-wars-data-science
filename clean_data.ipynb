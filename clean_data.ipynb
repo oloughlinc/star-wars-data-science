{
 "cells": [
  {
   "cell_type": "code",
   "execution_count": 1,
   "id": "68d4b02a",
   "metadata": {},
   "outputs": [],
   "source": [
    "import pandas as pd\n",
    "from sklearn.tree import DecisionTreeClassifier\n",
    "from sklearn.model_selection import train_test_split\n",
    "from sklearn.metrics import accuracy_score\n",
    "import pickle\n",
    "from fastparquet import ParquetFile\n",
    "from fastparquet import write\n",
    "import pyarrow as pa\n",
    "\n",
    "\n"
   ]
  },
  {
   "cell_type": "markdown",
   "id": "0c4b1672",
   "metadata": {},
   "source": [
    "### Use the trained model with “real” data"
   ]
  },
  {
   "cell_type": "code",
   "execution_count": 3,
   "id": "21d50624",
   "metadata": {},
   "outputs": [
    {
     "data": {
      "text/html": [
       "<div>\n",
       "<style scoped>\n",
       "    .dataframe tbody tr th:only-of-type {\n",
       "        vertical-align: middle;\n",
       "    }\n",
       "\n",
       "    .dataframe tbody tr th {\n",
       "        vertical-align: top;\n",
       "    }\n",
       "\n",
       "    .dataframe thead th {\n",
       "        text-align: right;\n",
       "    }\n",
       "</style>\n",
       "<table border=\"1\" class=\"dataframe\">\n",
       "  <thead>\n",
       "    <tr style=\"text-align: right;\">\n",
       "      <th></th>\n",
       "      <th>timestamp</th>\n",
       "      <th>unit_id</th>\n",
       "      <th>unit_type</th>\n",
       "      <th>location_x</th>\n",
       "      <th>location_y</th>\n",
       "      <th>destination_x</th>\n",
       "      <th>destination_y</th>\n",
       "      <th>homeworld</th>\n",
       "    </tr>\n",
       "  </thead>\n",
       "  <tbody>\n",
       "    <tr>\n",
       "      <th>0</th>\n",
       "      <td>2023-06-13 17:33:18</td>\n",
       "      <td>1</td>\n",
       "      <td>at-st</td>\n",
       "      <td>2.0</td>\n",
       "      <td>8.0</td>\n",
       "      <td>1</td>\n",
       "      <td>1</td>\n",
       "      <td>Glee Anselm</td>\n",
       "    </tr>\n",
       "    <tr>\n",
       "      <th>1</th>\n",
       "      <td>2023-06-13 17:33:17</td>\n",
       "      <td>2</td>\n",
       "      <td>tie_silencer</td>\n",
       "      <td>4.0</td>\n",
       "      <td>4.0</td>\n",
       "      <td>0</td>\n",
       "      <td>1</td>\n",
       "      <td>Trandosha</td>\n",
       "    </tr>\n",
       "    <tr>\n",
       "      <th>2</th>\n",
       "      <td>2023-06-13 17:33:16</td>\n",
       "      <td>3</td>\n",
       "      <td>at-at</td>\n",
       "      <td>0.0</td>\n",
       "      <td>3.0</td>\n",
       "      <td>6</td>\n",
       "      <td>1</td>\n",
       "      <td>Corellia</td>\n",
       "    </tr>\n",
       "    <tr>\n",
       "      <th>3</th>\n",
       "      <td>2023-06-13 17:33:15</td>\n",
       "      <td>4</td>\n",
       "      <td>tie_silencer</td>\n",
       "      <td>6.0</td>\n",
       "      <td>1.0</td>\n",
       "      <td>6</td>\n",
       "      <td>9</td>\n",
       "      <td>Shili</td>\n",
       "    </tr>\n",
       "    <tr>\n",
       "      <th>4</th>\n",
       "      <td>2023-06-13 17:33:14</td>\n",
       "      <td>5</td>\n",
       "      <td>tie_fighter</td>\n",
       "      <td>0.0</td>\n",
       "      <td>4.0</td>\n",
       "      <td>9</td>\n",
       "      <td>6</td>\n",
       "      <td>Muunilinst</td>\n",
       "    </tr>\n",
       "    <tr>\n",
       "      <th>...</th>\n",
       "      <td>...</td>\n",
       "      <td>...</td>\n",
       "      <td>...</td>\n",
       "      <td>...</td>\n",
       "      <td>...</td>\n",
       "      <td>...</td>\n",
       "      <td>...</td>\n",
       "      <td>...</td>\n",
       "    </tr>\n",
       "    <tr>\n",
       "      <th>9999995</th>\n",
       "      <td>2023-02-18 10:26:20</td>\n",
       "      <td>9999996</td>\n",
       "      <td>resistance_soldier</td>\n",
       "      <td>6.0</td>\n",
       "      <td>6.0</td>\n",
       "      <td>1</td>\n",
       "      <td>3</td>\n",
       "      <td>Troiken</td>\n",
       "    </tr>\n",
       "    <tr>\n",
       "      <th>9999996</th>\n",
       "      <td>2023-02-18 10:26:19</td>\n",
       "      <td>9999997</td>\n",
       "      <td>tie_silencer</td>\n",
       "      <td>8.0</td>\n",
       "      <td>6.0</td>\n",
       "      <td>2</td>\n",
       "      <td>0</td>\n",
       "      <td>Kashyyyk</td>\n",
       "    </tr>\n",
       "    <tr>\n",
       "      <th>9999997</th>\n",
       "      <td>2023-02-18 10:26:18</td>\n",
       "      <td>9999998</td>\n",
       "      <td>tie_fighter</td>\n",
       "      <td>7.0</td>\n",
       "      <td>7.0</td>\n",
       "      <td>6</td>\n",
       "      <td>4</td>\n",
       "      <td>Kashyyyk</td>\n",
       "    </tr>\n",
       "    <tr>\n",
       "      <th>9999998</th>\n",
       "      <td>2023-02-18 10:26:17</td>\n",
       "      <td>9999999</td>\n",
       "      <td>tie_fighter</td>\n",
       "      <td>6.0</td>\n",
       "      <td>6.0</td>\n",
       "      <td>8</td>\n",
       "      <td>8</td>\n",
       "      <td>Kalee</td>\n",
       "    </tr>\n",
       "    <tr>\n",
       "      <th>9999999</th>\n",
       "      <td>2023-02-18 10:26:16</td>\n",
       "      <td>10000000</td>\n",
       "      <td>invalid_unit</td>\n",
       "      <td>NaN</td>\n",
       "      <td>NaN</td>\n",
       "      <td>3</td>\n",
       "      <td>0</td>\n",
       "      <td>Skako</td>\n",
       "    </tr>\n",
       "  </tbody>\n",
       "</table>\n",
       "<p>10000000 rows × 8 columns</p>\n",
       "</div>"
      ],
      "text/plain": [
       "                   timestamp   unit_id           unit_type  location_x  \\\n",
       "0        2023-06-13 17:33:18         1               at-st         2.0   \n",
       "1        2023-06-13 17:33:17         2        tie_silencer         4.0   \n",
       "2        2023-06-13 17:33:16         3               at-at         0.0   \n",
       "3        2023-06-13 17:33:15         4        tie_silencer         6.0   \n",
       "4        2023-06-13 17:33:14         5         tie_fighter         0.0   \n",
       "...                      ...       ...                 ...         ...   \n",
       "9999995  2023-02-18 10:26:20   9999996  resistance_soldier         6.0   \n",
       "9999996  2023-02-18 10:26:19   9999997        tie_silencer         8.0   \n",
       "9999997  2023-02-18 10:26:18   9999998         tie_fighter         7.0   \n",
       "9999998  2023-02-18 10:26:17   9999999         tie_fighter         6.0   \n",
       "9999999  2023-02-18 10:26:16  10000000        invalid_unit         NaN   \n",
       "\n",
       "         location_y  destination_x  destination_y    homeworld  \n",
       "0               8.0              1              1  Glee Anselm  \n",
       "1               4.0              0              1    Trandosha  \n",
       "2               3.0              6              1     Corellia  \n",
       "3               1.0              6              9        Shili  \n",
       "4               4.0              9              6   Muunilinst  \n",
       "...             ...            ...            ...          ...  \n",
       "9999995         6.0              1              3      Troiken  \n",
       "9999996         6.0              2              0     Kashyyyk  \n",
       "9999997         7.0              6              4     Kashyyyk  \n",
       "9999998         6.0              8              8        Kalee  \n",
       "9999999         NaN              3              0        Skako  \n",
       "\n",
       "[10000000 rows x 8 columns]"
      ]
     },
     "execution_count": 3,
     "metadata": {},
     "output_type": "execute_result"
    }
   ],
   "source": [
    "df = pd.read_csv('troop_movements10m.csv')\n",
    "df"
   ]
  },
  {
   "cell_type": "markdown",
   "id": "aa8f4d12",
   "metadata": {},
   "source": [
    "### Some unit_type records have a value of invalid_unit. Replace that with unknown"
   ]
  },
  {
   "cell_type": "code",
   "execution_count": 9,
   "id": "31503bd9",
   "metadata": {},
   "outputs": [
    {
     "data": {
      "text/plain": [
       "x-wing                1428412\n",
       "stormtrooper          1428291\n",
       "tie_silencer          1428016\n",
       "tie_fighter           1426809\n",
       "at-at                 1426525\n",
       "at-st                 1426173\n",
       "resistance_soldier    1425774\n",
       "invalid_unit            10000\n",
       "Name: unit_type, dtype: int64"
      ]
     },
     "execution_count": 9,
     "metadata": {},
     "output_type": "execute_result"
    }
   ],
   "source": [
    "unit_type = df['unit_type'].value_counts()\n",
    "unit_type"
   ]
  },
  {
   "cell_type": "code",
   "execution_count": 8,
   "id": "77d7285e",
   "metadata": {},
   "outputs": [
    {
     "data": {
      "text/html": [
       "<div>\n",
       "<style scoped>\n",
       "    .dataframe tbody tr th:only-of-type {\n",
       "        vertical-align: middle;\n",
       "    }\n",
       "\n",
       "    .dataframe tbody tr th {\n",
       "        vertical-align: top;\n",
       "    }\n",
       "\n",
       "    .dataframe thead th {\n",
       "        text-align: right;\n",
       "    }\n",
       "</style>\n",
       "<table border=\"1\" class=\"dataframe\">\n",
       "  <thead>\n",
       "    <tr style=\"text-align: right;\">\n",
       "      <th></th>\n",
       "      <th>timestamp</th>\n",
       "      <th>unit_id</th>\n",
       "      <th>unit_type</th>\n",
       "      <th>location_x</th>\n",
       "      <th>location_y</th>\n",
       "      <th>destination_x</th>\n",
       "      <th>destination_y</th>\n",
       "      <th>homeworld</th>\n",
       "    </tr>\n",
       "  </thead>\n",
       "  <tbody>\n",
       "    <tr>\n",
       "      <th>0</th>\n",
       "      <td>2023-06-13 17:33:18</td>\n",
       "      <td>1</td>\n",
       "      <td>at-st</td>\n",
       "      <td>2.0</td>\n",
       "      <td>8.0</td>\n",
       "      <td>1</td>\n",
       "      <td>1</td>\n",
       "      <td>Glee Anselm</td>\n",
       "    </tr>\n",
       "    <tr>\n",
       "      <th>1</th>\n",
       "      <td>2023-06-13 17:33:17</td>\n",
       "      <td>2</td>\n",
       "      <td>tie_silencer</td>\n",
       "      <td>4.0</td>\n",
       "      <td>4.0</td>\n",
       "      <td>0</td>\n",
       "      <td>1</td>\n",
       "      <td>Trandosha</td>\n",
       "    </tr>\n",
       "    <tr>\n",
       "      <th>2</th>\n",
       "      <td>2023-06-13 17:33:16</td>\n",
       "      <td>3</td>\n",
       "      <td>at-at</td>\n",
       "      <td>0.0</td>\n",
       "      <td>3.0</td>\n",
       "      <td>6</td>\n",
       "      <td>1</td>\n",
       "      <td>Corellia</td>\n",
       "    </tr>\n",
       "    <tr>\n",
       "      <th>3</th>\n",
       "      <td>2023-06-13 17:33:15</td>\n",
       "      <td>4</td>\n",
       "      <td>tie_silencer</td>\n",
       "      <td>6.0</td>\n",
       "      <td>1.0</td>\n",
       "      <td>6</td>\n",
       "      <td>9</td>\n",
       "      <td>Shili</td>\n",
       "    </tr>\n",
       "    <tr>\n",
       "      <th>4</th>\n",
       "      <td>2023-06-13 17:33:14</td>\n",
       "      <td>5</td>\n",
       "      <td>tie_fighter</td>\n",
       "      <td>0.0</td>\n",
       "      <td>4.0</td>\n",
       "      <td>9</td>\n",
       "      <td>6</td>\n",
       "      <td>Muunilinst</td>\n",
       "    </tr>\n",
       "    <tr>\n",
       "      <th>...</th>\n",
       "      <td>...</td>\n",
       "      <td>...</td>\n",
       "      <td>...</td>\n",
       "      <td>...</td>\n",
       "      <td>...</td>\n",
       "      <td>...</td>\n",
       "      <td>...</td>\n",
       "      <td>...</td>\n",
       "    </tr>\n",
       "    <tr>\n",
       "      <th>9999995</th>\n",
       "      <td>2023-02-18 10:26:20</td>\n",
       "      <td>9999996</td>\n",
       "      <td>resistance_soldier</td>\n",
       "      <td>6.0</td>\n",
       "      <td>6.0</td>\n",
       "      <td>1</td>\n",
       "      <td>3</td>\n",
       "      <td>Troiken</td>\n",
       "    </tr>\n",
       "    <tr>\n",
       "      <th>9999996</th>\n",
       "      <td>2023-02-18 10:26:19</td>\n",
       "      <td>9999997</td>\n",
       "      <td>tie_silencer</td>\n",
       "      <td>8.0</td>\n",
       "      <td>6.0</td>\n",
       "      <td>2</td>\n",
       "      <td>0</td>\n",
       "      <td>Kashyyyk</td>\n",
       "    </tr>\n",
       "    <tr>\n",
       "      <th>9999997</th>\n",
       "      <td>2023-02-18 10:26:18</td>\n",
       "      <td>9999998</td>\n",
       "      <td>tie_fighter</td>\n",
       "      <td>7.0</td>\n",
       "      <td>7.0</td>\n",
       "      <td>6</td>\n",
       "      <td>4</td>\n",
       "      <td>Kashyyyk</td>\n",
       "    </tr>\n",
       "    <tr>\n",
       "      <th>9999998</th>\n",
       "      <td>2023-02-18 10:26:17</td>\n",
       "      <td>9999999</td>\n",
       "      <td>tie_fighter</td>\n",
       "      <td>6.0</td>\n",
       "      <td>6.0</td>\n",
       "      <td>8</td>\n",
       "      <td>8</td>\n",
       "      <td>Kalee</td>\n",
       "    </tr>\n",
       "    <tr>\n",
       "      <th>9999999</th>\n",
       "      <td>2023-02-18 10:26:16</td>\n",
       "      <td>10000000</td>\n",
       "      <td>unknown</td>\n",
       "      <td>NaN</td>\n",
       "      <td>NaN</td>\n",
       "      <td>3</td>\n",
       "      <td>0</td>\n",
       "      <td>Skako</td>\n",
       "    </tr>\n",
       "  </tbody>\n",
       "</table>\n",
       "<p>10000000 rows × 8 columns</p>\n",
       "</div>"
      ],
      "text/plain": [
       "                   timestamp   unit_id           unit_type  location_x  \\\n",
       "0        2023-06-13 17:33:18         1               at-st         2.0   \n",
       "1        2023-06-13 17:33:17         2        tie_silencer         4.0   \n",
       "2        2023-06-13 17:33:16         3               at-at         0.0   \n",
       "3        2023-06-13 17:33:15         4        tie_silencer         6.0   \n",
       "4        2023-06-13 17:33:14         5         tie_fighter         0.0   \n",
       "...                      ...       ...                 ...         ...   \n",
       "9999995  2023-02-18 10:26:20   9999996  resistance_soldier         6.0   \n",
       "9999996  2023-02-18 10:26:19   9999997        tie_silencer         8.0   \n",
       "9999997  2023-02-18 10:26:18   9999998         tie_fighter         7.0   \n",
       "9999998  2023-02-18 10:26:17   9999999         tie_fighter         6.0   \n",
       "9999999  2023-02-18 10:26:16  10000000             unknown         NaN   \n",
       "\n",
       "         location_y  destination_x  destination_y    homeworld  \n",
       "0               8.0              1              1  Glee Anselm  \n",
       "1               4.0              0              1    Trandosha  \n",
       "2               3.0              6              1     Corellia  \n",
       "3               1.0              6              9        Shili  \n",
       "4               4.0              9              6   Muunilinst  \n",
       "...             ...            ...            ...          ...  \n",
       "9999995         6.0              1              3      Troiken  \n",
       "9999996         6.0              2              0     Kashyyyk  \n",
       "9999997         7.0              6              4     Kashyyyk  \n",
       "9999998         6.0              8              8        Kalee  \n",
       "9999999         NaN              3              0        Skako  \n",
       "\n",
       "[10000000 rows x 8 columns]"
      ]
     },
     "execution_count": 8,
     "metadata": {},
     "output_type": "execute_result"
    }
   ],
   "source": [
    "inplace = df.replace(to_replace='invalid_unit', value=\"unknown\", inplace=False)\n",
    "inplace"
   ]
  },
  {
   "cell_type": "code",
   "execution_count": 11,
   "id": "cd262fd5",
   "metadata": {},
   "outputs": [
    {
     "data": {
      "text/plain": [
       "x-wing                1428412\n",
       "stormtrooper          1428291\n",
       "tie_silencer          1428016\n",
       "tie_fighter           1426809\n",
       "at-at                 1426525\n",
       "at-st                 1426173\n",
       "resistance_soldier    1425774\n",
       "unknown                 10000\n",
       "Name: unit_type, dtype: int64"
      ]
     },
     "execution_count": 11,
     "metadata": {},
     "output_type": "execute_result"
    }
   ],
   "source": [
    "unit_type = inplace['unit_type'].value_counts()\n",
    "unit_type"
   ]
  },
  {
   "cell_type": "markdown",
   "id": "684111fd",
   "metadata": {},
   "source": [
    "### Some location_x and location_Y values are missing. Use the ffill method to fill"
   ]
  },
  {
   "cell_type": "code",
   "execution_count": 18,
   "id": "f06d8a28",
   "metadata": {},
   "outputs": [
    {
     "data": {
      "text/plain": [
       "False    9999500\n",
       "True         500\n",
       "Name: location_x, dtype: int64"
      ]
     },
     "execution_count": 18,
     "metadata": {},
     "output_type": "execute_result"
    }
   ],
   "source": [
    "\n",
    "inplace['location_x'].isna().value_counts()\n"
   ]
  },
  {
   "cell_type": "code",
   "execution_count": 20,
   "id": "2604a1b8",
   "metadata": {},
   "outputs": [],
   "source": [
    " inplace['location_x'].ffill(inplace=True)"
   ]
  },
  {
   "cell_type": "code",
   "execution_count": 21,
   "id": "aa4e57db",
   "metadata": {},
   "outputs": [
    {
     "data": {
      "text/plain": [
       "False    10000000\n",
       "Name: location_x, dtype: int64"
      ]
     },
     "execution_count": 21,
     "metadata": {},
     "output_type": "execute_result"
    }
   ],
   "source": [
    "\n",
    "inplace['location_x'].isna().value_counts()"
   ]
  },
  {
   "cell_type": "code",
   "execution_count": 23,
   "id": "9bee1284",
   "metadata": {},
   "outputs": [
    {
     "data": {
      "text/plain": [
       "False    9999500\n",
       "True         500\n",
       "Name: location_y, dtype: int64"
      ]
     },
     "execution_count": 23,
     "metadata": {},
     "output_type": "execute_result"
    }
   ],
   "source": [
    "inplace['location_y'].isna().value_counts()"
   ]
  },
  {
   "cell_type": "code",
   "execution_count": 24,
   "id": "c035ee39",
   "metadata": {
    "scrolled": true
   },
   "outputs": [
    {
     "data": {
      "text/plain": [
       "False    10000000\n",
       "Name: location_x, dtype: int64"
      ]
     },
     "execution_count": 24,
     "metadata": {},
     "output_type": "execute_result"
    }
   ],
   "source": [
    "inplace['location_x'].ffill(inplace=True)\n",
    "inplace['location_x'].isna().value_counts()"
   ]
  },
  {
   "cell_type": "markdown",
   "id": "910c08ab",
   "metadata": {},
   "source": [
    "### Save the clean data into a Parquet file named troop_movements10m.parquet"
   ]
  },
  {
   "cell_type": "code",
   "execution_count": 25,
   "id": "200d5256",
   "metadata": {},
   "outputs": [],
   "source": [
    "# Save DataFrame to Parquet file\n",
    "inplace.to_parquet('clean_data.parquet')"
   ]
  },
  {
   "cell_type": "code",
   "execution_count": null,
   "id": "983aea8c",
   "metadata": {},
   "outputs": [],
   "source": []
  }
 ],
 "metadata": {
  "kernelspec": {
   "display_name": "Python 3 (ipykernel)",
   "language": "python",
   "name": "python3"
  },
  "language_info": {
   "codemirror_mode": {
    "name": "ipython",
    "version": 3
   },
   "file_extension": ".py",
   "mimetype": "text/x-python",
   "name": "python",
   "nbconvert_exporter": "python",
   "pygments_lexer": "ipython3",
   "version": "3.10.9"
  }
 },
 "nbformat": 4,
 "nbformat_minor": 5
}
